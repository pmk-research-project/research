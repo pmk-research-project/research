{
 "cells": [
  {
   "cell_type": "code",
   "execution_count": null,
   "id": "a016ddcd-7763-4b87-a8bc-419ef85dd7d4",
   "metadata": {},
   "outputs": [],
   "source": [
    "#| default_exp derivatives"
   ]
  },
  {
   "cell_type": "code",
   "execution_count": 2,
   "id": "ca57325a-a5e3-4b87-9649-5aefa2619f2b",
   "metadata": {},
   "outputs": [],
   "source": [
    "#| export\n",
    "import pandas as pd \n",
    "\n",
    "class DollarBars:\n",
    "    def __init__(self, trade_partition: pd.DataFrame):\n",
    "        self.tp = trade_partition.sort_values(\"participant_timestamp\")\n",
    "        self.cache = None\n",
    "\n",
    "    @property\n",
    "    def df(self):\n",
    "        if self.cache is None:\n",
    "            self.cache = self.calculate()\n",
    "            return self.cache\n",
    "        else:\n",
    "            return self.cache\n",
    "    \n",
    "    def calculate(self) -> pd.DataFrame:\n",
    "        df = self.tp.copy()\n",
    "        df[\"notional_val\"] = df[\"price\"] * df[\"size\"]\n",
    "        df[\"notional_cumsum\"] = df[\"notional_value\"].cumsum()\n",
    "        df[\"dollar_bar_idx\"] = df[\"notional_cumsum\"] / 1_000_000\n",
    "        return df\n"
   ]
  },
  {
   "cell_type": "code",
   "execution_count": null,
   "id": "633c94e3-068a-4482-bf79-9dc0bff61d65",
   "metadata": {},
   "outputs": [],
   "source": []
  }
 ],
 "metadata": {
  "kernelspec": {
   "display_name": "Python 3 (ipykernel)",
   "language": "python",
   "name": "python3"
  },
  "language_info": {
   "codemirror_mode": {
    "name": "ipython",
    "version": 3
   },
   "file_extension": ".py",
   "mimetype": "text/x-python",
   "name": "python",
   "nbconvert_exporter": "python",
   "pygments_lexer": "ipython3",
   "version": "3.10.11"
  }
 },
 "nbformat": 4,
 "nbformat_minor": 5
}

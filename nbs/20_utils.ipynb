{
 "cells": [
  {
   "cell_type": "markdown",
   "id": "e29bbae0-8a1d-4c05-b1b2-3cfbd76e49b5",
   "metadata": {},
   "source": [
    "# utils\n",
    "\n",
    "> Utils modules, providing helper code to reduce verbosity elsewhere."
   ]
  },
  {
   "cell_type": "code",
   "execution_count": null,
   "id": "38f10290-08ce-493a-8f44-eeae6b6958aa",
   "metadata": {},
   "outputs": [],
   "source": [
    "#| default_exp utils"
   ]
  },
  {
   "cell_type": "code",
   "execution_count": 6,
   "id": "55cf1466-9dca-4def-845d-bef9824614a1",
   "metadata": {},
   "outputs": [],
   "source": [
    "#| export\n",
    "\n",
    "import os\n",
    "import typing as ta\n",
    "\n",
    "import pandas as pd\n",
    "\n",
    "def get_home_directory() -> str:\n",
    "    # Gets ~/\n",
    "    return os.path.expanduser(\"~\")\n",
    "\n",
    "def generate_weekday_dates(start_date, end_date):\n",
    "    \"\"\"\n",
    "    Generate a list of pandas dates excluding weekends (Saturdays and Sundays).\n",
    "    \n",
    "    Parameters:\n",
    "        start_date (str or datetime): Start date in 'yyyy-mm-dd' format.\n",
    "        end_date (str or datetime): End date in 'yyyy-mm-dd' format.\n",
    "\n",
    "    Returns:\n",
    "        list: List of pandas Timestamp objects representing weekdays.\n",
    "    \"\"\"\n",
    "    # Convert the input strings to pandas datetime objects if they are not already.\n",
    "    if not isinstance(start_date, pd.Timestamp):\n",
    "        start_date = pd.to_datetime(start_date)\n",
    "    if not isinstance(end_date, pd.Timestamp):\n",
    "        end_date = pd.to_datetime(end_date)\n",
    "\n",
    "    # Initialize an empty list to store the weekday dates.\n",
    "    weekday_dates = []\n",
    "\n",
    "    # Loop through the date range and add weekdays to the list.\n",
    "    current_date = start_date\n",
    "    while current_date <= end_date:\n",
    "        # Check if the current date is not a Saturday (5) or Sunday (6).\n",
    "        if current_date.weekday() < 5:\n",
    "            weekday_dates.append(current_date)\n",
    "        current_date += pd.DateOffset(days=1)\n",
    "\n",
    "    return [str(i)[:10] for i in weekday_dates]\n",
    "\n",
    "def find_list_overlap(list1, list2):\n",
    "    \"\"\"\n",
    "    Find the overlap (intersection) between two lists.\n",
    "\n",
    "    Parameters:\n",
    "        list1 (list): The first input list.\n",
    "        list2 (list): The second input list.\n",
    "\n",
    "    Returns:\n",
    "        list: A list containing the elements that are common to both input lists.\n",
    "    \"\"\"\n",
    "    # Convert the lists to sets and use the intersection method to find common elements.\n",
    "    common_elements = list(set(list1).intersection(list2))\n",
    "    return common_elements\n"
   ]
  },
  {
   "cell_type": "code",
   "execution_count": 7,
   "id": "3d4ac1f5-cf82-4884-9673-0db0a4d49bb4",
   "metadata": {},
   "outputs": [
    {
     "name": "stdout",
     "output_type": "stream",
     "text": [
      "['2023-10-16', '2023-10-17', '2023-10-18', '2023-10-19', '2023-10-20', '2023-10-23', '2023-10-24', '2023-10-25', '2023-10-26', '2023-10-27', '2023-10-30']\n"
     ]
    }
   ],
   "source": [
    "start_date = \"2023-10-16\"\n",
    "end_date = \"2023-10-30\"\n",
    "weekday_dates = generate_weekday_dates(start_date, end_date)\n",
    "print(weekday_dates)"
   ]
  },
  {
   "cell_type": "code",
   "execution_count": null,
   "id": "6dfd46e7-e040-4260-a691-fdafef70c3f6",
   "metadata": {},
   "outputs": [],
   "source": []
  }
 ],
 "metadata": {
  "kernelspec": {
   "display_name": "Python 3 (ipykernel)",
   "language": "python",
   "name": "python3"
  },
  "language_info": {
   "codemirror_mode": {
    "name": "ipython",
    "version": 3
   },
   "file_extension": ".py",
   "mimetype": "text/x-python",
   "name": "python",
   "nbconvert_exporter": "python",
   "pygments_lexer": "ipython3",
   "version": "3.10.11"
  }
 },
 "nbformat": 4,
 "nbformat_minor": 5
}

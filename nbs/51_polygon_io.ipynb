{
 "cells": [
  {
   "cell_type": "code",
   "execution_count": 1,
   "id": "de41fdcb-d49d-442c-abf4-18116631e42e",
   "metadata": {},
   "outputs": [],
   "source": [
    "#| default_exp polygon_io"
   ]
  },
  {
   "cell_type": "code",
   "execution_count": 8,
   "id": "4f347104-acf3-4f49-a545-ed3ff63187b8",
   "metadata": {},
   "outputs": [],
   "source": [
    "#| export\n",
    "\"\"\"\n",
    "Functions to be imported by the while loops that write to Kafka\n",
    "\"\"\"\n",
    "import os\n",
    "\n",
    "import pandas as pd \n",
    "\n",
    "from polygon import RESTClient\n",
    "\n",
    "class Polygon:\n",
    "    def spawn_client(self):\n",
    "        return RESTClient(os.environ[\"POLYGON_API_KEY\"])\n",
    "    \n",
    "    def get_trades_iter_for_day(self, symbol: str, date: str):\n",
    "        client = spawn_client()\n",
    "        ## Example: \n",
    "        # Trade(conditions=[12, 14, 37, 41], \n",
    "        # correction=None, \n",
    "        # exchange=12, \n",
    "        # id='22834', \n",
    "        # participant_timestamp=1691625593902018160, \n",
    "        # price=84.01, \n",
    "        # sequence_number=4680660, \n",
    "        # sip_timestamp=1691625593902034598, \n",
    "        # size=20, \n",
    "        # tape=3, \n",
    "        # trf_id=None, \n",
    "        # trf_timestamp=None)\n",
    "        return client.list_trades(ticker = symbol, timestamp = date)\n",
    "    \n",
    "    def trade_iter_to_dataframe(self, trade_iter):\n",
    "        return pd.DataFrame([i.__dict__ for i in trade_iter])\n",
    "    \n",
    "    def get_reference_data(self, symbol: str, date: str):\n",
    "        client = spawn_client()\n",
    "        return client.get_ticker_details(symbol, date)\n"
   ]
  },
  {
   "cell_type": "code",
   "execution_count": 9,
   "id": "1b780908-e35e-4dbd-89a4-0695454c4baf",
   "metadata": {},
   "outputs": [
    {
     "data": {
      "text/plain": [
       "TickerDetails(active=True, address=CompanyAddress(address1='C/O CORPORATION SERVICE COMPANY', address2='251 LITTLE FALLS DRIVE', city='WILMINGTON', state='DE', country=None, postal_code='19808'), branding=Branding(icon_url='https://api.polygon.io/v1/reference/company-branding/d3d3LmNvaW5iYXNlLmNvbQ/images/2023-05-01_icon.png', logo_url='https://api.polygon.io/v1/reference/company-branding/d3d3LmNvaW5iYXNlLmNvbQ/images/2023-05-01_logo.svg', accent_color=None, light_color=None, dark_color=None), cik='0001679788', composite_figi='BBG00ZGF7771', currency_name='usd', currency_symbol=None, base_currency_name=None, base_currency_symbol=None, delisted_utc=None, description='Founded in 2012, Coinbase is the leading cryptocurrency exchange platform in the United States. The company intends to be the safe and regulation-compliant point of entry for retail investors and institutions into the cryptocurrency economy. Users can establish an account directly with the firm, instead of using an intermediary, and many choose to allow Coinbase to act as a custodian for their cryptocurrency, giving the company breadth beyond that of a traditional financial exchange. While the company still generates the majority of its revenue from transaction fees charged to its retail customers, Coinbase uses internal investment and acquisitions to expand into adjacent businesses, such as prime brokerage and data analytics.', ticker_root='COIN', ticker_suffix=None, homepage_url='https://www.coinbase.com', list_date='2021-04-14', locale='us', market='stocks', market_cap=17807192399.52, name='Coinbase Global, Inc. Class A Common Stock', phone_number='(302) 636-5401', primary_exchange='XNAS', share_class_figi='BBG00ZGF7799', share_class_shares_outstanding=189950000, sic_code='6199', sic_description='FINANCE SERVICES', ticker='COIN', total_employees=4510, type='CS', weighted_shares_outstanding=237176244)"
      ]
     },
     "execution_count": 9,
     "metadata": {},
     "output_type": "execute_result"
    }
   ],
   "source": [
    "poly = Polygon()\n",
    "poly.get_reference_data(\"COIN\", \"2023-10-01\")"
   ]
  }
 ],
 "metadata": {
  "kernelspec": {
   "display_name": "Python 3 (ipykernel)",
   "language": "python",
   "name": "python3"
  },
  "language_info": {
   "codemirror_mode": {
    "name": "ipython",
    "version": 3
   },
   "file_extension": ".py",
   "mimetype": "text/x-python",
   "name": "python",
   "nbconvert_exporter": "python",
   "pygments_lexer": "ipython3",
   "version": "3.10.11"
  }
 },
 "nbformat": 4,
 "nbformat_minor": 5
}

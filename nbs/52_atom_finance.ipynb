{
 "cells": [
  {
   "cell_type": "code",
   "execution_count": null,
   "id": "997edc30-d759-4be5-8716-ce54dd6a818b",
   "metadata": {},
   "outputs": [],
   "source": [
    "#| default_exp atom_finance"
   ]
  },
  {
   "cell_type": "code",
   "execution_count": 3,
   "id": "60b037df-d790-4dcb-bb5d-77a4801cea13",
   "metadata": {},
   "outputs": [],
   "source": [
    "#| export\n",
    "import os\n",
    "\n",
    "import json\n",
    "import requests\n",
    "\n",
    "# dev mode has asset limitations \n",
    "# https://docs.atom.finance/reference/authentication\n",
    "DEV_KEY_EQUITIES = [\"AAPL\", \"BABA\", \"META\", \"JPM\", \"NKE\", \"VALE3\", \"PETR3\", \"RY\", \"SHOP\"]\n",
    "DEV_KEY_FUNDS = [\"SPY\", \"VTSAX\"]\n",
    "DEV_KEY_CRYPTO = [\"BTC\", \"DOGE\"]\n",
    "\n",
    "class AtomFinanceClient:\n",
    "    def __init__(self, mode = \"prod\"):\n",
    "        # Creds\n",
    "        self.api_key = os.getenv(\"ATOM_FINANCE_API_KEY\")\n",
    "\n",
    "        # Endpoints\n",
    "        if mode == \"prod\":\n",
    "            self.endpoint = \"https://platform.atom.finance/api/2.0/{path}?api_key={api_key}\"\n",
    "        elif mode == \"dev\":\n",
    "            self.endpoint = \"https://sandbox-platform.atom.finance/api/2.0/{path}?api_key={api_key}\"\n",
    "\n",
    "        # Headers\n",
    "        self.headers = {\n",
    "            'Content-Type': 'application/json',\n",
    "            'Accept': 'application/json'\n",
    "        }\n",
    "\n",
    "    def post(self, path: str = \"search\", data: dict = {}):\n",
    "        payload = json.dumps(data)\n",
    "        endpoint = self.endpoint.format(**{\n",
    "            \"path\" : path,\n",
    "            \"api_key\" : self.api_key\n",
    "                }\n",
    "            )\n",
    "\n",
    "        resp = requests.post(\n",
    "                endpoint,\n",
    "                data = payload,\n",
    "                headers = self.headers\n",
    "                )\n",
    "        if resp.status_code == 201:\n",
    "            return resp.json()\n",
    "        else:\n",
    "            print(resp.json())\n",
    "            raise Exception(f\"POST to {path} failed\")\n",
    "\n",
    "    def equity_overview(self, symbol):\n",
    "        template = {\n",
    "              \"asset\": {\n",
    "                \"identifier\": \"ticker\",\n",
    "                \"value\": symbol,\n",
    "                \"assetType\": \"equity\",\n",
    "                \"market\": \"USA\"\n",
    "              }\n",
    "            }\n",
    "        return self.post(path = \"equity/overview\", data = template)\n",
    "\n",
    "    def test_authenticate(self):\n",
    "        resp = self.post(data = {\"query\" : \"cars\"})\n",
    "        print(\"Test authentication to Atom successful\")\n"
   ]
  },
  {
   "cell_type": "code",
   "execution_count": 5,
   "id": "6b9d3331-e4d0-496f-8b96-fc3b637581f1",
   "metadata": {},
   "outputs": [
    {
     "name": "stdout",
     "output_type": "stream",
     "text": [
      "{'error': {'type': 'unauthorized_access', 'message': 'Invalid api_key'}}\n"
     ]
    },
    {
     "ename": "Exception",
     "evalue": "POST to search failed",
     "output_type": "error",
     "traceback": [
      "\u001b[0;31m---------------------------------------------------------------------------\u001b[0m",
      "\u001b[0;31mException\u001b[0m                                 Traceback (most recent call last)",
      "Cell \u001b[0;32mIn[5], line 2\u001b[0m\n\u001b[1;32m      1\u001b[0m atom \u001b[38;5;241m=\u001b[39m AtomFinanceClient(mode \u001b[38;5;241m=\u001b[39m \u001b[38;5;124m\"\u001b[39m\u001b[38;5;124mdev\u001b[39m\u001b[38;5;124m\"\u001b[39m)\n\u001b[0;32m----> 2\u001b[0m \u001b[43matom\u001b[49m\u001b[38;5;241;43m.\u001b[39;49m\u001b[43mtest_authenticate\u001b[49m\u001b[43m(\u001b[49m\u001b[43m)\u001b[49m\n\u001b[1;32m      3\u001b[0m equity_overview \u001b[38;5;241m=\u001b[39m atom\u001b[38;5;241m.\u001b[39mequity_overview(symbol \u001b[38;5;241m=\u001b[39m \u001b[38;5;124m\"\u001b[39m\u001b[38;5;124mAAPL\u001b[39m\u001b[38;5;124m\"\u001b[39m)\n\u001b[1;32m      4\u001b[0m \u001b[38;5;28mprint\u001b[39m(\u001b[38;5;124m\"\u001b[39m\u001b[38;5;124matom.equity_overview(symbol = \u001b[39m\u001b[38;5;124m'\u001b[39m\u001b[38;5;124mAAPL\u001b[39m\u001b[38;5;124m'\u001b[39m\u001b[38;5;124m)\u001b[39m\u001b[38;5;124m\"\u001b[39m)\n",
      "Cell \u001b[0;32mIn[3], line 61\u001b[0m, in \u001b[0;36mAtomFinanceClient.test_authenticate\u001b[0;34m(self)\u001b[0m\n\u001b[1;32m     60\u001b[0m \u001b[38;5;28;01mdef\u001b[39;00m \u001b[38;5;21mtest_authenticate\u001b[39m(\u001b[38;5;28mself\u001b[39m):\n\u001b[0;32m---> 61\u001b[0m     resp \u001b[38;5;241m=\u001b[39m \u001b[38;5;28;43mself\u001b[39;49m\u001b[38;5;241;43m.\u001b[39;49m\u001b[43mpost\u001b[49m\u001b[43m(\u001b[49m\u001b[43mdata\u001b[49m\u001b[43m \u001b[49m\u001b[38;5;241;43m=\u001b[39;49m\u001b[43m \u001b[49m\u001b[43m{\u001b[49m\u001b[38;5;124;43m\"\u001b[39;49m\u001b[38;5;124;43mquery\u001b[39;49m\u001b[38;5;124;43m\"\u001b[39;49m\u001b[43m \u001b[49m\u001b[43m:\u001b[49m\u001b[43m \u001b[49m\u001b[38;5;124;43m\"\u001b[39;49m\u001b[38;5;124;43mcars\u001b[39;49m\u001b[38;5;124;43m\"\u001b[39;49m\u001b[43m}\u001b[49m\u001b[43m)\u001b[49m\n\u001b[1;32m     62\u001b[0m     \u001b[38;5;28mprint\u001b[39m(\u001b[38;5;124m\"\u001b[39m\u001b[38;5;124mTest authentication to Atom successful\u001b[39m\u001b[38;5;124m\"\u001b[39m)\n",
      "Cell \u001b[0;32mIn[3], line 47\u001b[0m, in \u001b[0;36mAtomFinanceClient.post\u001b[0;34m(self, path, data)\u001b[0m\n\u001b[1;32m     45\u001b[0m \u001b[38;5;28;01melse\u001b[39;00m:\n\u001b[1;32m     46\u001b[0m     \u001b[38;5;28mprint\u001b[39m(resp\u001b[38;5;241m.\u001b[39mjson())\n\u001b[0;32m---> 47\u001b[0m     \u001b[38;5;28;01mraise\u001b[39;00m \u001b[38;5;167;01mException\u001b[39;00m(\u001b[38;5;124mf\u001b[39m\u001b[38;5;124m\"\u001b[39m\u001b[38;5;124mPOST to \u001b[39m\u001b[38;5;132;01m{\u001b[39;00mpath\u001b[38;5;132;01m}\u001b[39;00m\u001b[38;5;124m failed\u001b[39m\u001b[38;5;124m\"\u001b[39m)\n",
      "\u001b[0;31mException\u001b[0m: POST to search failed"
     ]
    }
   ],
   "source": [
    "atom = AtomFinanceClient(mode = \"dev\")\n",
    "atom.test_authenticate()\n",
    "equity_overview = atom.equity_overview(symbol = \"AAPL\")\n",
    "print(\"atom.equity_overview(symbol = 'AAPL')\")\n",
    "print(equity_overview)"
   ]
  },
  {
   "cell_type": "code",
   "execution_count": null,
   "id": "e245aef9-c0c2-46d0-8935-490ee6717f7c",
   "metadata": {},
   "outputs": [],
   "source": []
  }
 ],
 "metadata": {
  "kernelspec": {
   "display_name": "Python 3 (ipykernel)",
   "language": "python",
   "name": "python3"
  },
  "language_info": {
   "codemirror_mode": {
    "name": "ipython",
    "version": 3
   },
   "file_extension": ".py",
   "mimetype": "text/x-python",
   "name": "python",
   "nbconvert_exporter": "python",
   "pygments_lexer": "ipython3",
   "version": "3.10.11"
  }
 },
 "nbformat": 4,
 "nbformat_minor": 5
}

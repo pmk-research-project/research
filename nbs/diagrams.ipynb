{
 "cells": [
  {
   "cell_type": "code",
   "execution_count": null,
   "id": "3629e518-6fd8-4dc7-8646-89345afcf248",
   "metadata": {},
   "outputs": [],
   "source": [
    "from diagrams import Diagram, Cluster, Edge\n",
    "from diagrams.gcp.analytics import *\n",
    "\n",
    "with Diagram(\"My Diagram: Droplets\", show=False, filename=\"research-internals\", direction=\"LR\"):\n",
    "    with Cluster(\"Core Libraries\"):\n",
    "        core = Dataprep(\"research.core\")\n",
    "        utils = Dataproc(\"research.utils\")\n",
    "\n",
    "    with Cluster(\"Data Libraries\"):\n",
    "        datastore = Composer(\"research.datastore\")\n",
    "\n",
    "    [core] >> datastore >> [core]\n"
   ]
  },
  {
   "cell_type": "code",
   "execution_count": null,
   "id": "0d330fa4-54e5-4f71-a162-8147665cbb00",
   "metadata": {},
   "outputs": [],
   "source": []
  }
 ],
 "metadata": {
  "kernelspec": {
   "display_name": "Python 3 (ipykernel)",
   "language": "python",
   "name": "python3"
  },
  "language_info": {
   "codemirror_mode": {
    "name": "ipython",
    "version": 3
   },
   "file_extension": ".py",
   "mimetype": "text/x-python",
   "name": "python",
   "nbconvert_exporter": "python",
   "pygments_lexer": "ipython3",
   "version": "3.10.11"
  }
 },
 "nbformat": 4,
 "nbformat_minor": 5
}

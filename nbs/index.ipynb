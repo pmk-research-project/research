{
 "cells": [
  {
   "cell_type": "code",
   "execution_count": 5,
   "metadata": {},
   "outputs": [
    {
     "name": "stdout",
     "output_type": "stream",
     "text": [
      "Requirement already satisfied: jupyterlab-quarto in /home/pmk/.pyenv/versions/3.10.11/envs/shadowing/lib/python3.10/site-packages (0.2.8)\n",
      "\n",
      "\u001b[1m[\u001b[0m\u001b[34;49mnotice\u001b[0m\u001b[1;39;49m]\u001b[0m\u001b[39;49m A new release of pip is available: \u001b[0m\u001b[31;49m23.0.1\u001b[0m\u001b[39;49m -> \u001b[0m\u001b[32;49m23.3\u001b[0m\n",
      "\u001b[1m[\u001b[0m\u001b[34;49mnotice\u001b[0m\u001b[1;39;49m]\u001b[0m\u001b[39;49m To update, run: \u001b[0m\u001b[32;49mpython3.10 -m pip install --upgrade pip\u001b[0m\n"
     ]
    }
   ],
   "source": [
    "#| hide\n",
    "!pip install jupyterlab-quarto"
   ]
  },
  {
   "cell_type": "markdown",
   "metadata": {},
   "source": [
    "# research\n",
    "\n",
    "> This is a research library for the financial world. Load in time series, analyze and predict."
   ]
  },
  {
   "cell_type": "markdown",
   "metadata": {},
   "source": [
    "## Install"
   ]
  },
  {
   "cell_type": "markdown",
   "metadata": {},
   "source": [
    "```sh\n",
    "pip install research\n",
    "```"
   ]
  },
  {
   "cell_type": "markdown",
   "metadata": {},
   "source": [
    "## core & datastore\n",
    "> submodules for loading and analyzing timeseries data\n"
   ]
  },
  {
   "cell_type": "code",
   "execution_count": 33,
   "metadata": {},
   "outputs": [],
   "source": [
    "from research.datastore import DataStore\n",
    "from research.core import TimeSeries, Ledger\n",
    "from research.utils import get_home_directory\n",
    "from research.polygon_io import get_trades_iter_for_day"
   ]
  },
  {
   "cell_type": "code",
   "execution_count": 13,
   "metadata": {},
   "outputs": [
    {
     "data": {
      "text/html": [
       "<div>\n",
       "<style scoped>\n",
       "    .dataframe tbody tr th:only-of-type {\n",
       "        vertical-align: middle;\n",
       "    }\n",
       "\n",
       "    .dataframe tbody tr th {\n",
       "        vertical-align: top;\n",
       "    }\n",
       "\n",
       "    .dataframe thead tr th {\n",
       "        text-align: left;\n",
       "    }\n",
       "</style>\n",
       "<table border=\"1\" class=\"dataframe\">\n",
       "  <thead>\n",
       "    <tr>\n",
       "      <th></th>\n",
       "      <th>asset_type</th>\n",
       "      <th>data_type</th>\n",
       "      <th>symbol</th>\n",
       "      <th colspan=\"3\" halign=\"left\">file</th>\n",
       "    </tr>\n",
       "    <tr>\n",
       "      <th></th>\n",
       "      <th></th>\n",
       "      <th></th>\n",
       "      <th></th>\n",
       "      <th>min</th>\n",
       "      <th>max</th>\n",
       "      <th>count</th>\n",
       "    </tr>\n",
       "  </thead>\n",
       "  <tbody>\n",
       "    <tr>\n",
       "      <th>0</th>\n",
       "      <td>EQUITY</td>\n",
       "      <td>TRADE</td>\n",
       "      <td>ALPS</td>\n",
       "      <td>2023-01-01</td>\n",
       "      <td>2023-10-07</td>\n",
       "      <td>280</td>\n",
       "    </tr>\n",
       "  </tbody>\n",
       "</table>\n",
       "</div>"
      ],
      "text/plain": [
       "  asset_type data_type symbol       file                 \n",
       "                                     min        max count\n",
       "0     EQUITY     TRADE   ALPS 2023-01-01 2023-10-07   280"
      ]
     },
     "execution_count": 13,
     "metadata": {},
     "output_type": "execute_result"
    }
   ],
   "source": [
    "ds = DataStore(datastore_path = f\"{get_home_directory()}/datastore\")\n",
    "ds.available_partitions.head(1)"
   ]
  },
  {
   "cell_type": "code",
   "execution_count": 26,
   "metadata": {},
   "outputs": [
    {
     "data": {
      "text/html": [
       "<div>\n",
       "<style scoped>\n",
       "    .dataframe tbody tr th:only-of-type {\n",
       "        vertical-align: middle;\n",
       "    }\n",
       "\n",
       "    .dataframe tbody tr th {\n",
       "        vertical-align: top;\n",
       "    }\n",
       "\n",
       "    .dataframe thead th {\n",
       "        text-align: right;\n",
       "    }\n",
       "</style>\n",
       "<table border=\"1\" class=\"dataframe\">\n",
       "  <thead>\n",
       "    <tr style=\"text-align: right;\">\n",
       "      <th></th>\n",
       "      <th>conditions</th>\n",
       "      <th>exchange</th>\n",
       "      <th>id</th>\n",
       "      <th>participant_timestamp</th>\n",
       "      <th>price</th>\n",
       "      <th>sequence_number</th>\n",
       "      <th>sip_timestamp</th>\n",
       "      <th>size</th>\n",
       "      <th>tape</th>\n",
       "      <th>trf_id</th>\n",
       "      <th>trf_timestamp</th>\n",
       "    </tr>\n",
       "  </thead>\n",
       "  <tbody>\n",
       "    <tr>\n",
       "      <th>0</th>\n",
       "      <td>[12]</td>\n",
       "      <td>4</td>\n",
       "      <td>319</td>\n",
       "      <td>1672779685399262000</td>\n",
       "      <td>33.98</td>\n",
       "      <td>6428681</td>\n",
       "      <td>1672779685400263036</td>\n",
       "      <td>338</td>\n",
       "      <td>3</td>\n",
       "      <td>12.0</td>\n",
       "      <td>1.672780e+18</td>\n",
       "    </tr>\n",
       "    <tr>\n",
       "      <th>1</th>\n",
       "      <td>[12, 37]</td>\n",
       "      <td>4</td>\n",
       "      <td>318</td>\n",
       "      <td>1672779622094000000</td>\n",
       "      <td>33.98</td>\n",
       "      <td>6427419</td>\n",
       "      <td>1672779622109060727</td>\n",
       "      <td>83</td>\n",
       "      <td>3</td>\n",
       "      <td>12.0</td>\n",
       "      <td>1.672780e+18</td>\n",
       "    </tr>\n",
       "    <tr>\n",
       "      <th>2</th>\n",
       "      <td>[15]</td>\n",
       "      <td>12</td>\n",
       "      <td>297</td>\n",
       "      <td>1672779601024156497</td>\n",
       "      <td>33.98</td>\n",
       "      <td>6424590</td>\n",
       "      <td>1672779601024173819</td>\n",
       "      <td>3023</td>\n",
       "      <td>3</td>\n",
       "      <td>NaN</td>\n",
       "      <td>NaN</td>\n",
       "    </tr>\n",
       "    <tr>\n",
       "      <th>3</th>\n",
       "      <td>[8, 9, 41]</td>\n",
       "      <td>12</td>\n",
       "      <td>296</td>\n",
       "      <td>1672779601024130202</td>\n",
       "      <td>33.98</td>\n",
       "      <td>6424589</td>\n",
       "      <td>1672779601024151847</td>\n",
       "      <td>3023</td>\n",
       "      <td>3</td>\n",
       "      <td>NaN</td>\n",
       "      <td>NaN</td>\n",
       "    </tr>\n",
       "    <tr>\n",
       "      <th>4</th>\n",
       "      <td>[15]</td>\n",
       "      <td>11</td>\n",
       "      <td>124</td>\n",
       "      <td>1672779600029275904</td>\n",
       "      <td>33.93</td>\n",
       "      <td>6422322</td>\n",
       "      <td>1672779600029627197</td>\n",
       "      <td>100</td>\n",
       "      <td>3</td>\n",
       "      <td>NaN</td>\n",
       "      <td>NaN</td>\n",
       "    </tr>\n",
       "  </tbody>\n",
       "</table>\n",
       "</div>"
      ],
      "text/plain": [
       "   conditions  exchange   id  participant_timestamp  price  sequence_number  \\\n",
       "0        [12]         4  319    1672779685399262000  33.98          6428681   \n",
       "1    [12, 37]         4  318    1672779622094000000  33.98          6427419   \n",
       "2        [15]        12  297    1672779601024156497  33.98          6424590   \n",
       "3  [8, 9, 41]        12  296    1672779601024130202  33.98          6424589   \n",
       "4        [15]        11  124    1672779600029275904  33.93          6422322   \n",
       "\n",
       "         sip_timestamp  size  tape  trf_id  trf_timestamp  \n",
       "0  1672779685400263036   338     3    12.0   1.672780e+18  \n",
       "1  1672779622109060727    83     3    12.0   1.672780e+18  \n",
       "2  1672779601024173819  3023     3     NaN            NaN  \n",
       "3  1672779601024151847  3023     3     NaN            NaN  \n",
       "4  1672779600029627197   100     3     NaN            NaN  "
      ]
     },
     "execution_count": 26,
     "metadata": {},
     "output_type": "execute_result"
    }
   ],
   "source": [
    "partition = ds.load_asset_partition(\n",
    "    asset_type = \"EQUITY\",\n",
    "    data_type = \"TRADE\",\n",
    "    symbol = \"AROW\",\n",
    "    date = \"2023-01-03\"\n",
    ")\n",
    "partition.head()"
   ]
  },
  {
   "cell_type": "code",
   "execution_count": 7,
   "metadata": {},
   "outputs": [
    {
     "data": {
      "text/plain": [
       "research.core.TimeSeries"
      ]
     },
     "execution_count": 7,
     "metadata": {},
     "output_type": "execute_result"
    }
   ],
   "source": [
    "TimeSeries"
   ]
  },
  {
   "cell_type": "markdown",
   "metadata": {},
   "source": [
    "## volatility\n",
    "> a submodule for measuring volatility\n"
   ]
  },
  {
   "cell_type": "code",
   "execution_count": null,
   "metadata": {},
   "outputs": [],
   "source": []
  },
  {
   "cell_type": "code",
   "execution_count": null,
   "metadata": {},
   "outputs": [],
   "source": []
  },
  {
   "cell_type": "code",
   "execution_count": null,
   "metadata": {},
   "outputs": [],
   "source": []
  }
 ],
 "metadata": {
  "kernelspec": {
   "display_name": "Python 3 (ipykernel)",
   "language": "python",
   "name": "python3"
  },
  "language_info": {
   "codemirror_mode": {
    "name": "ipython",
    "version": 3
   },
   "file_extension": ".py",
   "mimetype": "text/x-python",
   "name": "python",
   "nbconvert_exporter": "python",
   "pygments_lexer": "ipython3",
   "version": "3.10.11"
  }
 },
 "nbformat": 4,
 "nbformat_minor": 4
}
